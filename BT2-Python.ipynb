{
 "cells": [
  {
   "cell_type": "code",
   "execution_count": 1,
   "metadata": {},
   "outputs": [],
   "source": [
    "from IPython.core.interactiveshell import InteractiveShell\n",
    "InteractiveShell.ast_node_interactivity = \"all\""
   ]
  },
  {
   "cell_type": "code",
   "execution_count": 9,
   "metadata": {},
   "outputs": [],
   "source": [
    "class Author:\n",
    "    def __init__(self,name,mail,gender):\n",
    "        self.name = name\n",
    "        self.mail= mail\n",
    "        self.gender=gender\n",
    "    def get_name(self):\n",
    "        return self.name\n",
    "    def get_mail(self):\n",
    "        return self.mail\n",
    "    def get_gender(self):\n",
    "        return self.gender\n",
    "    def set_name(self,name):\n",
    "        self.name = name\n",
    "    def set_mail(self,mail):\n",
    "        self.mail = mail\n",
    "    def set_gender(self,gender):\n",
    "        self.gender = gender\n",
    "    def get_author(self):\n",
    "        print (\"Name : \", self.name,  \", Mail :\", self.mail, \",Gender\", self.gender)"
   ]
  },
  {
   "cell_type": "code",
   "execution_count": 10,
   "metadata": {},
   "outputs": [],
   "source": [
    "import numpy as np"
   ]
  },
  {
   "cell_type": "code",
   "execution_count": 96,
   "metadata": {},
   "outputs": [],
   "source": [
    "a=([])\n",
    "authors=([])\n",
    "class Book :\n",
    "    def __init__(self,name,prince,authors,qty=0):\n",
    "        \n",
    "        self.name=name\n",
    "        self.prince=prince\n",
    "        self.authors=authors\n",
    "        self.qty=qty\n",
    "        a.extend(authors)\n",
    "    def get_name(self):\n",
    "        return self.name\n",
    "    def get_prince(self):\n",
    "        return self.prince\n",
    "    def get_authors(self):\n",
    "        return self.authors\n",
    "    def get_qty(self):\n",
    "        return self.qty\n",
    "    def set_name(self):\n",
    "        self.name=name\n",
    "    def set_prince(self):\n",
    "        self.prince=prince\n",
    "    def set_authors(self):\n",
    "        self.authors=authors\n",
    "        a.extend(authors)\n",
    "\n",
    "    def set_qty(self):\n",
    "        self.qty=qty\n",
    "    def add_authors(self,author):\n",
    "        a.append(author)\n",
    "        self.authors =a\n",
    "    def hien_thi_thong_tin(self):\n",
    "        print (\"Name : \", self.get_name(), \",Prince : \", self.get_prince(), \",Quantity : \",self.get_qty())\n",
    "        print(\"Author : \")\n",
    "        for i in a:\n",
    "            print(i.name)\n",
    "        "
   ]
  },
  {
   "cell_type": "code",
   "execution_count": 97,
   "metadata": {},
   "outputs": [],
   "source": [
    "author =Author(\"Hung\",\"hung@gmail.com\",\"Nam\")"
   ]
  },
  {
   "cell_type": "code",
   "execution_count": 98,
   "metadata": {},
   "outputs": [
    {
     "name": "stdout",
     "output_type": "stream",
     "text": [
      "Name :  Hung , Mail : hung@gmail.com ,Gender Nam\n"
     ]
    }
   ],
   "source": [
    "author.get_author()"
   ]
  },
  {
   "cell_type": "code",
   "execution_count": 99,
   "metadata": {},
   "outputs": [],
   "source": [
    "author2 =Author(\"Hung2\",\"hung2@gmail.com\",\"Nam\")"
   ]
  },
  {
   "cell_type": "code",
   "execution_count": 100,
   "metadata": {},
   "outputs": [],
   "source": [
    "arraythor=np.array([author,author2])"
   ]
  },
  {
   "cell_type": "code",
   "execution_count": 101,
   "metadata": {},
   "outputs": [
    {
     "name": "stdout",
     "output_type": "stream",
     "text": [
      "Name :  Hung , Mail : hung@gmail.com ,Gender Nam\n"
     ]
    }
   ],
   "source": [
    "arraythor[0].get_author()"
   ]
  },
  {
   "cell_type": "code",
   "execution_count": 102,
   "metadata": {},
   "outputs": [],
   "source": [
    "book = Book(\"PyThon3\",\"50000\",arraythor,\"1\")"
   ]
  },
  {
   "cell_type": "code",
   "execution_count": 103,
   "metadata": {},
   "outputs": [
    {
     "name": "stdout",
     "output_type": "stream",
     "text": [
      "Name :  PyThon3 ,Prince :  50000 ,Quantity :  1\n",
      "Author : \n",
      "Hung\n",
      "Hung2\n"
     ]
    }
   ],
   "source": [
    "book.hien_thi_thong_tin()"
   ]
  },
  {
   "cell_type": "code",
   "execution_count": 104,
   "metadata": {},
   "outputs": [],
   "source": [
    "\n",
    "book.add_authors(author2)"
   ]
  },
  {
   "cell_type": "code",
   "execution_count": 105,
   "metadata": {},
   "outputs": [
    {
     "name": "stdout",
     "output_type": "stream",
     "text": [
      "Name :  PyThon3 ,Prince :  50000 ,Quantity :  1\n",
      "Author : \n",
      "Hung\n",
      "Hung2\n",
      "Hung2\n"
     ]
    }
   ],
   "source": [
    "book.hien_thi_thong_tin()"
   ]
  },
  {
   "cell_type": "code",
   "execution_count": 106,
   "metadata": {},
   "outputs": [],
   "source": [
    "book.add_authors(author2)"
   ]
  },
  {
   "cell_type": "code",
   "execution_count": 107,
   "metadata": {},
   "outputs": [
    {
     "name": "stdout",
     "output_type": "stream",
     "text": [
      "Name :  PyThon3 ,Prince :  50000 ,Quantity :  1\n",
      "Author : \n",
      "Hung\n",
      "Hung2\n",
      "Hung2\n",
      "Hung2\n"
     ]
    }
   ],
   "source": [
    "book.hien_thi_thong_tin()"
   ]
  },
  {
   "cell_type": "code",
   "execution_count": null,
   "metadata": {},
   "outputs": [],
   "source": []
  },
  {
   "cell_type": "code",
   "execution_count": null,
   "metadata": {},
   "outputs": [],
   "source": []
  }
 ],
 "metadata": {
  "kernelspec": {
   "display_name": "Python 3",
   "language": "python",
   "name": "python3"
  },
  "language_info": {
   "codemirror_mode": {
    "name": "ipython",
    "version": 3
   },
   "file_extension": ".py",
   "mimetype": "text/x-python",
   "name": "python",
   "nbconvert_exporter": "python",
   "pygments_lexer": "ipython3",
   "version": "3.6.5"
  }
 },
 "nbformat": 4,
 "nbformat_minor": 2
}
